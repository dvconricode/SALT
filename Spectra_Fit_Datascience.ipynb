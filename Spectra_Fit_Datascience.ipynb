{
 "cells": [
  {
   "cell_type": "markdown",
   "id": "4b2b130e",
   "metadata": {},
   "source": [
    "## Imports"
   ]
  },
  {
   "cell_type": "code",
   "execution_count": 81,
   "id": "21592f7f",
   "metadata": {},
   "outputs": [],
   "source": [
    "import numpy as np\n",
    "import math\n",
    "import datascience\n",
    "import scipy\n",
    "from datascience import *\n",
    "from scipy import *\n",
    "from scipy.signal import find_peaks, find_peaks_cwt, savgol_filter\n",
    "import sklearn\n",
    "from sklearn.metrics import mean_absolute_error\n",
    "import matplotlib\n",
    "%matplotlib inline\n",
    "import matplotlib.pyplot as plots\n",
    "plots.rcParams[\"figure.figsize\"] = (10,7)\n",
    "import time\n",
    "import lmfit\n",
    "from lmfit import minimize\n",
    "from lmfit import Minimizer, Parameters\n",
    "\n",
    "\n",
    "from lmfit.models import LorentzianModel"
   ]
  },
  {
   "cell_type": "markdown",
   "id": "010a4bb8",
   "metadata": {},
   "source": [
    "## Data\n",
    "`Peak_Interval_List.csv` and `Ig110postbakemap9476.CSV` from\n",
    "Graphite Raman Mapping (Project 31) on Box."
   ]
  },
  {
   "cell_type": "code",
   "execution_count": 82,
   "id": "3c8ae5e1",
   "metadata": {},
   "outputs": [
    {
     "data": {
      "text/html": [
       "<table border=\"1\" class=\"dataframe\">\n",
       "    <thead>\n",
       "        <tr>\n",
       "            <th>x</th> <th>y</th>\n",
       "        </tr>\n",
       "    </thead>\n",
       "    <tbody>\n",
       "        <tr>\n",
       "            <td>500    </td> <td>1.11038 </td>\n",
       "        </tr>\n",
       "        <tr>\n",
       "            <td>500.137</td> <td>0.985766</td>\n",
       "        </tr>\n",
       "        <tr>\n",
       "            <td>500.274</td> <td>0.951698</td>\n",
       "        </tr>\n",
       "        <tr>\n",
       "            <td>500.411</td> <td>0.957243</td>\n",
       "        </tr>\n",
       "        <tr>\n",
       "            <td>500.547</td> <td>0.893833</td>\n",
       "        </tr>\n",
       "        <tr>\n",
       "            <td>500.684</td> <td>0.883336</td>\n",
       "        </tr>\n",
       "        <tr>\n",
       "            <td>500.821</td> <td>0.872838</td>\n",
       "        </tr>\n",
       "        <tr>\n",
       "            <td>500.958</td> <td>0.889714</td>\n",
       "        </tr>\n",
       "        <tr>\n",
       "            <td>501.095</td> <td>0.849866</td>\n",
       "        </tr>\n",
       "        <tr>\n",
       "            <td>501.232</td> <td>0.835878</td>\n",
       "        </tr>\n",
       "    </tbody>\n",
       "</table>\n",
       "<p>... (18261 rows omitted)</p>"
      ],
      "text/plain": [
       "x       | y\n",
       "500     | 1.11038\n",
       "500.137 | 0.985766\n",
       "500.274 | 0.951698\n",
       "500.411 | 0.957243\n",
       "500.547 | 0.893833\n",
       "500.684 | 0.883336\n",
       "500.821 | 0.872838\n",
       "500.958 | 0.889714\n",
       "501.095 | 0.849866\n",
       "501.232 | 0.835878\n",
       "... (18261 rows omitted)"
      ]
     },
     "execution_count": 82,
     "metadata": {},
     "output_type": "execute_result"
    },
    {
     "data": {
      "image/png": "[encoded data removed]",
      "text/plain": [
       "<Figure size 720x504 with 1 Axes>"
      ]
     },
     "metadata": {
      "needs_background": "light"
     },
     "output_type": "display_data"
    }
   ],
   "source": [
    "peak_intervals = Table().read_table(\"new_peak_list.csv\")\n",
    "sample_spectrum = Table().read_table(\"JQ2a2_16.csv\")\n",
    "#sample_spectrum = Table().read_table(\"Ig110postbakemap9476.CSV\")\n",
    "plots.plot(sample_spectrum.column(\"x\"), sample_spectrum.column(\"y\"))\n",
    "sample_spectrum"
   ]
  },
  {
   "cell_type": "code",
   "execution_count": 83,
   "id": "84e9d643",
   "metadata": {},
   "outputs": [
    {
     "ename": "SyntaxError",
     "evalue": "invalid syntax (1821345968.py, line 1)",
     "output_type": "error",
     "traceback": [
      "\u001b[0;36m  File \u001b[0;32m\"/var/folders/49/t941f47j2pl285g_6hhhngfc0000gn/T/ipykernel_19271/1821345968.py\"\u001b[0;36m, line \u001b[0;32m1\u001b[0m\n\u001b[0;31m    model =\u001b[0m\n\u001b[0m            ^\u001b[0m\n\u001b[0;31mSyntaxError\u001b[0m\u001b[0;31m:\u001b[0m invalid syntax\n"
     ]
    }
   ],
   "source": [
    "model = "
   ]
  },
  {
   "cell_type": "code",
   "execution_count": 84,
   "id": "548ff305",
   "metadata": {
    "scrolled": true
   },
   "outputs": [
    {
     "data": {
      "text/html": [
       "<table border=\"1\" class=\"dataframe\">\n",
       "    <thead>\n",
       "        <tr>\n",
       "            <th>Peak Name</th> <th>Peak Number</th> <th>Optional?</th> <th>Min Bound X</th> <th>Max Bound X</th>\n",
       "        </tr>\n",
       "    </thead>\n",
       "    <tbody>\n",
       "        <tr>\n",
       "            <td>Pre-D       </td> <td>1          </td> <td>Yes      </td> <td>1000       </td> <td>1320       </td>\n",
       "        </tr>\n",
       "        <tr>\n",
       "            <td>D           </td> <td>2          </td> <td>No       </td> <td>1340       </td> <td>1360       </td>\n",
       "        </tr>\n",
       "        <tr>\n",
       "            <td>D-G shoulder</td> <td>3          </td> <td>Yes      </td> <td>1370       </td> <td>1550       </td>\n",
       "        </tr>\n",
       "        <tr>\n",
       "            <td>G           </td> <td>4          </td> <td>No       </td> <td>1560       </td> <td>1600       </td>\n",
       "        </tr>\n",
       "        <tr>\n",
       "            <td>D' shoulder </td> <td>5          </td> <td>No       </td> <td>1600       </td> <td>1630       </td>\n",
       "        </tr>\n",
       "        <tr>\n",
       "            <td>T+D         </td> <td>6          </td> <td>Yes      </td> <td>2300       </td> <td>2500       </td>\n",
       "        </tr>\n",
       "        <tr>\n",
       "            <td>G'_3Da      </td> <td>7          </td> <td>No       </td> <td>2640       </td> <td>2690       </td>\n",
       "        </tr>\n",
       "        <tr>\n",
       "            <td>G'_2D       </td> <td>8          </td> <td>No       </td> <td>2680       </td> <td>2720       </td>\n",
       "        </tr>\n",
       "        <tr>\n",
       "            <td>G'_3DB      </td> <td>9          </td> <td>No       </td> <td>2700       </td> <td>2740       </td>\n",
       "        </tr>\n",
       "        <tr>\n",
       "            <td>D'+D        </td> <td>10         </td> <td>No       </td> <td>2850       </td> <td>2950       </td>\n",
       "        </tr>\n",
       "    </tbody>\n",
       "</table>"
      ],
      "text/plain": [
       "Peak Name    | Peak Number | Optional? | Min Bound X | Max Bound X\n",
       "Pre-D        | 1           | Yes       | 1000        | 1320\n",
       "D            | 2           | No        | 1340        | 1360\n",
       "D-G shoulder | 3           | Yes       | 1370        | 1550\n",
       "G            | 4           | No        | 1560        | 1600\n",
       "D' shoulder  | 5           | No        | 1600        | 1630\n",
       "T+D          | 6           | Yes       | 2300        | 2500\n",
       "G'_3Da       | 7           | No        | 2640        | 2690\n",
       "G'_2D        | 8           | No        | 2680        | 2720\n",
       "G'_3DB       | 9           | No        | 2700        | 2740\n",
       "D'+D         | 10          | No        | 2850        | 2950"
      ]
     },
     "execution_count": 84,
     "metadata": {},
     "output_type": "execute_result"
    }
   ],
   "source": [
    "peak_intervals"
   ]
  },
  {
   "cell_type": "markdown",
   "id": "c4cf50cf",
   "metadata": {},
   "source": [
    "## Driver Function\n",
    "`spectrum`: table with two columns: x and y <br>  \n",
    "`num_peaks`: int, how many peaks to fit with <br>  \n",
    "`baseline_deg`: degree of polynomial to fit baseline with  <br>  \n",
    "`baseline_tol`: tolerance to stop baseline iteration  <br>  \n",
    "`peak_type`: lorentz/gaussian, later add option to choose others (examples in the matlab, should be able to express with the same parameters) <br>  \n",
    "`error`: MAE, MSE, etc. <br>  \n",
    "`tolerance`: to within what error should we fit <br>  \n",
    "`num_iterations`: how many iterations should we go through <br>  \n",
    "`window_len`: length of savitsky-golay filter window <br>  \n",
    "`polyorder`: order of polynomial to fit samples in savitsky-golay"
   ]
  },
  {
   "cell_type": "code",
   "execution_count": 85,
   "id": "859ba65c",
   "metadata": {},
   "outputs": [],
   "source": [
    "lambda_1 = 0.05\n",
    "lambda_2 = 0.05"
   ]
  },
  {
   "cell_type": "code",
   "execution_count": 99,
   "id": "fa1351c0",
   "metadata": {},
   "outputs": [
    {
     "data": {
      "text/plain": [
       "'\\n\\n    # LMFIT call\\n    model = LorentzianModel()\\n    params = model.guess(normalized_spectrum.column(\"y\"), x=normalized_spectrum.column(\"x\"))\\n    result = model.fit(normalized_spectrum.column(\"y\"), params, x=normalized_spectrum.column(\"x\"))\\n    print(result.fit_report())\\n    result.plot_fit()\\n    return \\n\\n\\n\\n    result = result_full.x\\n    \\n    # plot result\\n    result_matrix = Table().with_columns(\"Peak #\", np.arange(num_peaks),\\n                                        \"amp\", result[0:num_peaks],\\n                                        \"cen\", result[num_peaks:2*num_peaks],\\n                                        \"wid\", result[2*num_peaks:3*num_peaks])\\n    print(result_matrix)\\n    reconstructed_y = reconstruct_spectrum(normalized_spectrum, result_matrix)\\n    \\n    guess_and_real = Table().with_columns(\"Real\", normalized_y, \"Reconstructed\", reconstructed_y, \"x\", normalized_spectrum.column(\"x\"))\\n    #guess_and_real.plot(\"x\")\\n    \\n    \\n    # Temporary test code\\n    # Plotting individual peaks\\n    \\n    test_plot = guess_and_real\\n    #for i in range(num_peaks):\\n    #    parameters_i = result_matrix.row(i)\\n    #    amp_i = parameters_i.item(\"amp\")\\n    #    cen_i = parameters_i.item(\"cen\")\\n    #    wid_i = parameters_i.item(\"wid\")\\n    #    peak_i = [lorentz(x, amp_i, cen_i, wid_i) for x in normalized_spectrum.column(\"x\")]\\n    #    test_plot = test_plot.with_columns(f\"Peak {i}\", peak_i)\\n    # test_plot.plot(\"x\")\\n    plots.plot(test_plot.column(\"x\"), test_plot.column(\"Real\"), label=\"Real\")\\n    plots.plot(test_plot.column(\"x\"), test_plot.column(\"Reconstructed\"), label=\"Reconstructed\")\\n    #for i in range(num_peaks):\\n    #    plots.plot(test_plot.column(\"x\"), test_plot.column(f\"Peak {i}\"), label=f\"Peak {i + 1}\")\\n    plots.legend()\\n    \\n    \\n    \\n    end_time = time.time()\\n    print(f\"Program runtime (minutes):  {(end_time - start_time) / 60}\")\\n    \\n    print(error(result))\\n    return result_full\\n'"
      ]
     },
     "execution_count": 99,
     "metadata": {},
     "output_type": "execute_result"
    }
   ],
   "source": [
    "def fit_spectrum(spectrum, num_peaks, baseline_deg, baseline_tol, peak_type, error_type, tolerance, num_iterations, window_len, polyorder):\n",
    "    start_time = time.time() # unit: seconds\n",
    "    # Restrict data x to 500-3000\n",
    "    restricted_spectrum = spectrum.where(\"x\", are.between_or_equal_to(500, min(3000, max(spectrum.column(\"x\")))))\n",
    "    # Smooth signal with Savitsky-Golay filter\n",
    "    smoothed_y = scipy.signal.savgol_filter(restricted_spectrum.column(\"y\"), window_len, polyorder)\n",
    "    smoothed_spectrum = Table().with_columns(\"x\", restricted_spectrum.column(\"x\"), \"y\", smoothed_y)\n",
    "    # Remove baseline\n",
    "    spectrum_baseline_removed = remove_baseline(smoothed_spectrum, baseline_deg, baseline_tol)\n",
    "    # Normalize spectrum\n",
    "    normalized_y = ((spectrum_baseline_removed.column(\"y\") - min(spectrum_baseline_removed.column(\"y\")))\n",
    "                    / (max(spectrum_baseline_removed.column(\"y\")) - min(spectrum_baseline_removed.column(\"y\"))))\n",
    "    normalized_spectrum = Table().with_columns(\"x\", spectrum_baseline_removed.column(\"x\"), \"y\", normalized_y)\n",
    "    # Identify peaks\n",
    "    # check peak interval - edit num_peaks\n",
    "    detected_peaks = detect_peaks(normalized_spectrum, num_peaks)\n",
    "    # Reconstruct spectra\n",
    "    peaks = create_peaks(peak_type, detected_peaks)\n",
    "\n",
    "    # Create loss function that we will optimize\n",
    "    def error(guess_array):\n",
    "        # first num_peaks elems are amp, next are cen, next are wid\n",
    "        amp = guess_array[0:num_peaks]\n",
    "        cen = guess_array[num_peaks:2*num_peaks]\n",
    "        wid = guess_array[2*num_peaks:3*num_peaks]\n",
    "        guess_peaks = Table().with_columns(\"Peak #\", range(num_peaks),\n",
    "                                          \"amp\", amp, \"cen\", cen, \"wid\", wid)\n",
    "        reconstructed = reconstruct_spectrum(normalized_spectrum, guess_peaks)\n",
    "        # choose error\n",
    "        if error_type == \"MAE\":\n",
    "            e = sklearn.metrics.mean_absolute_error(normalized_spectrum.column(\"y\"), reconstructed)\n",
    "        elif error_type == \"MSE\":\n",
    "            e = sklearn.metrics.mean_squared_error(normalized_spectrum.column(\"y\"), reconstructed)\n",
    "        elif error_type == \"MAPE\":\n",
    "            e = sklearn.metrics.mean_absolute_percentage_error(normalized_spectrum.column(\"y\"), reconstructed)\n",
    "        elif error_type == \"RMSPE\":\n",
    "            e = RMSPE(normalized_spectrum.column(\"y\"), reconstructed)\n",
    "        else:\n",
    "            raise Exception(\"Error type not supported\")\n",
    "        print(e)\n",
    "        return e\n",
    "        return e #+ lambda_1 * (1 if guess_array[num_peaks + 8] < guess_array[num_peaks + 7] else 0) + lambda_2 * abs(guess_array[6] / guess_array[8] - 0.5)\n",
    "    \n",
    "    # change this from numpy appending to normal python list operations\n",
    "    initial_guess = np.append(np.append(peaks.column(\"amp\"), peaks.column(\"cen\").astype(int)), peaks.column(\"wid\"))\n",
    "\n",
    "    # create bounds\n",
    "    amp_bounds = [(0.0001, 300) for i in range(num_peaks)]\n",
    "    min_x = peak_intervals.column(\"Min Bound X\")\n",
    "    max_x = peak_intervals.column(\"Max Bound X\")\n",
    "    cen_bounds = [(min_x[i], max_x[i]) for i in range(num_peaks)]\n",
    "    wid_bounds = [(0.0001, 400) for i in range(num_peaks)]\n",
    "    bounds = amp_bounds + cen_bounds + wid_bounds\n",
    "    \n",
    "    # ensure center of peak 9 > peak 8\n",
    "    cons1 = {\"type\": \"ineq\", \"fun\": lambda arr: arr[num_peaks + 8] - arr[num_peaks + 7]}\n",
    "    # upper bound for peak 7 : peak 9 (amplitude)\n",
    "    cons2 = {\"type\": \"ineq\", \"fun\": lambda arr: arr[6] / arr[8] - 0.45}\n",
    "    # lower bound for peak 7 : peak 9 (amplitude)\n",
    "    cons3 = {\"type\": \"ineq\", \"fun\": lambda arr: -(arr[6] / arr[8]) + 0.55}\n",
    "    constraints = [cons1, cons2, cons3]\n",
    "    constraints_test = [cons1]\n",
    "    \n",
    "    initial_guess = np.asarray([7.37908, 34.97015, 3.65915, 36.15784, 4.22964, 2.89295, 5.91514, 17.67787, 10.7548, 2.4001,\n",
    "                                1275.74783, 1348.01504, 1493.83166, 1581.71285, 1620.46057, 2456.79433, 2666.37302, 2694.74791, 2721.62489, 2940.27771,\n",
    "                                215.7532, 44.50159, 92.21057, 23.70187, 24.28155, 67.71584, 59.9331, 47.47378, 40.57773, 58.14838])\n",
    "    \n",
    "    \n",
    "    #original minimize call - commenting out for testing others\n",
    "    #result_full = scipy.optimize.minimize(error, initial_guess, bounds=bounds, tol=tolerance,\n",
    "     #                                options={\"maxiter\": num_iterations})\n",
    "    \n",
    "\"\"\"\n",
    "    # LMFIT minimize call\n",
    "    # error is objective function\n",
    "    # initial guess is parameters\n",
    "    # default leastsq L-M fitting method\n",
    "    fitter = Minimizer(error, initial_guess)\n",
    "    print(\"fitting\")\n",
    "    min_res = fitter.minimize(method = \"leastsq\")\n",
    "    print(min_res.success)\n",
    "    print(min_res.params)\n",
    "    return min_res\n",
    "\"\"\"\n",
    "    \n",
    "    # LMFIT different approach\n",
    "    out = minimize(error, initial_guess)\n",
    "\n",
    "    \n",
    "\"\"\"\n",
    "\n",
    "    # LMFIT call\n",
    "    model = LorentzianModel()\n",
    "    params = model.guess(normalized_spectrum.column(\"y\"), x=normalized_spectrum.column(\"x\"))\n",
    "    result = model.fit(normalized_spectrum.column(\"y\"), params, x=normalized_spectrum.column(\"x\"))\n",
    "    print(result.fit_report())\n",
    "    result.plot_fit()\n",
    "    return \n",
    "\n",
    "\n",
    "\n",
    "    result = result_full.x\n",
    "    \n",
    "    # plot result\n",
    "    result_matrix = Table().with_columns(\"Peak #\", np.arange(num_peaks),\n",
    "                                        \"amp\", result[0:num_peaks],\n",
    "                                        \"cen\", result[num_peaks:2*num_peaks],\n",
    "                                        \"wid\", result[2*num_peaks:3*num_peaks])\n",
    "    print(result_matrix)\n",
    "    reconstructed_y = reconstruct_spectrum(normalized_spectrum, result_matrix)\n",
    "    \n",
    "    guess_and_real = Table().with_columns(\"Real\", normalized_y, \"Reconstructed\", reconstructed_y, \"x\", normalized_spectrum.column(\"x\"))\n",
    "    #guess_and_real.plot(\"x\")\n",
    "    \n",
    "    \n",
    "    # Temporary test code\n",
    "    # Plotting individual peaks\n",
    "    \n",
    "    test_plot = guess_and_real\n",
    "    #for i in range(num_peaks):\n",
    "    #    parameters_i = result_matrix.row(i)\n",
    "    #    amp_i = parameters_i.item(\"amp\")\n",
    "    #    cen_i = parameters_i.item(\"cen\")\n",
    "    #    wid_i = parameters_i.item(\"wid\")\n",
    "    #    peak_i = [lorentz(x, amp_i, cen_i, wid_i) for x in normalized_spectrum.column(\"x\")]\n",
    "    #    test_plot = test_plot.with_columns(f\"Peak {i}\", peak_i)\n",
    "    # test_plot.plot(\"x\")\n",
    "    plots.plot(test_plot.column(\"x\"), test_plot.column(\"Real\"), label=\"Real\")\n",
    "    plots.plot(test_plot.column(\"x\"), test_plot.column(\"Reconstructed\"), label=\"Reconstructed\")\n",
    "    #for i in range(num_peaks):\n",
    "    #    plots.plot(test_plot.column(\"x\"), test_plot.column(f\"Peak {i}\"), label=f\"Peak {i + 1}\")\n",
    "    plots.legend()\n",
    "    \n",
    "    \n",
    "    \n",
    "    end_time = time.time()\n",
    "    print(f\"Program runtime (minutes):  {(end_time - start_time) / 60}\")\n",
    "    \n",
    "    print(error(result))\n",
    "    return result_full\n",
    "\"\"\""
   ]
  },
  {
   "cell_type": "code",
   "execution_count": 87,
   "id": "149dc188",
   "metadata": {},
   "outputs": [],
   "source": [
    "# returns an array the same length as x\n",
    "# fits points in spectrum x to polynomial of degree deg\n",
    "# change tol to be for error between previous line and new line\n",
    "\n",
    "# save old coeffs to compare polynomials on the same set of x values -> above/below tol\n",
    "# try a value for tol - set a default\n",
    "# doesn't really matter which error we use - use msre with a tolerance of 1% (or MRE)\n",
    "# initial guess: fit line\n",
    "# full=True allows us to access sum of squared residuals of the fit as well\n",
    "def baseline(spectrum, deg, tol):\n",
    "    s = spectrum\n",
    "    e = float('inf')\n",
    "    old_coef = None\n",
    "    nrows = 0\n",
    "    while(e > tol):\n",
    "        # adding this condition to hopefully make stuff better\n",
    "        if spectrum.num_rows == 0:\n",
    "            break;\n",
    "        print(e)\n",
    "        # create fit line w/ np.polyfit & turn into a function w/ polyn\n",
    "        coef = np.polyfit(spectrum.column(\"x\"), spectrum.column(\"y\"), deg, full=False)\n",
    "        polyn = make_polynomial(coef, deg)\n",
    "        # re-fit line to remaining points\n",
    "        \n",
    "        baseline_fit = spectrum.apply(polyn, \"x\")\n",
    "        #plots.plot(spectrum.column(\"x\"), spectrum.column(\"y\"))\n",
    "        \n",
    "        #plots.plot(spectrum.column(\"x\"), baseline_fit)\n",
    "        # do error b/t previous line\n",
    "        if type(old_coef) != type(None):\n",
    "            #e = sklearn.metrics.mean_absolute_error(baseline_fit, spectrum.apply(make_polynomial(old_coef, deg), \"y\"))\n",
    "            e = RMSPE(baseline_fit, spectrum.apply(make_polynomial(old_coef, deg), \"x\"))\n",
    "        # remove any points above fit line\n",
    "        spectrum = spectrum.with_column(\"baseline\", baseline_fit)\n",
    "        print(spectrum)\n",
    "        wanted_indices_bool = spectrum.column(\"y\") <= spectrum.column(\"baseline\")\n",
    "        wanted_indices = [i for i in range(len(wanted_indices_bool)) if wanted_indices_bool[i]]\n",
    "        spectrum = spectrum.take(wanted_indices)\n",
    "        # repeat until fitting error < tol or # points doesn't change\n",
    "        old_coef = coef\n",
    "        print(\"spectrum rows \", spectrum.num_rows)\n",
    "        print(\"nrows \", nrows)\n",
    "        # added condition so every single point isn't destroyed\n",
    "        if abs(nrows - spectrum.num_rows) < 75:\n",
    "            break\n",
    "        if spectrum.num_rows == nrows:\n",
    "            print(\"nrows exit\")\n",
    "            break\n",
    "        nrows = spectrum.num_rows\n",
    "    # changed spectrum\n",
    "    baseline_ret = s.apply(polyn, \"x\")\n",
    "    #plots.plot(s.column(\"x\"), s.column(\"y\"))\n",
    "    #plots.plot(s.column(\"x\"), baseline_ret)\n",
    "    return baseline_ret"
   ]
  },
  {
   "cell_type": "code",
   "execution_count": 88,
   "id": "39f81503",
   "metadata": {},
   "outputs": [],
   "source": [
    "# takes in a table and returns a table w/ same columns & dimensions\n",
    "def remove_baseline(spectrum, deg, tol):\n",
    "    bl = baseline(spectrum, deg, tol)\n",
    "    return Table().with_columns(\"x\", spectrum.column(\"x\"), \"y\", spectrum.column(\"y\") - bl)"
   ]
  },
  {
   "cell_type": "code",
   "execution_count": 89,
   "id": "640b10e7",
   "metadata": {},
   "outputs": [],
   "source": [
    "# returns a single-variable polynomial function of degree deg from coefficients coef\n",
    "def make_polynomial(coef, deg):\n",
    "    # takes in an array of x values and returns an array of y values of the same dimension\n",
    "    def polyn(x):\n",
    "        y = 0\n",
    "        for i in range(deg + 1):\n",
    "            y += pow(x, deg - i) * coef[i]\n",
    "        return y\n",
    "    return polyn"
   ]
  },
  {
   "cell_type": "code",
   "execution_count": 90,
   "id": "e0f857b2",
   "metadata": {},
   "outputs": [],
   "source": [
    "# returns an array with num_peaks x-values set to the midpoint of their bounds\n",
    "# add option to remove peaks that are not required for lower num_peaks\n",
    "def detect_peaks(spectra, num_peaks):\n",
    "    midpoints = (peak_intervals.column(\"Min Bound X\") + peak_intervals.column(\"Max Bound X\")) / 2\n",
    "    return midpoints"
   ]
  },
  {
   "cell_type": "code",
   "execution_count": 91,
   "id": "2091e2c4",
   "metadata": {},
   "outputs": [],
   "source": [
    "# returns a matrix of initial guesses\n",
    "# dimensions 4 x num_peaks (4 = num parameters - x)\n",
    "def create_peaks(peak_type, detected_peaks):\n",
    "    if peak_type == \"lorentz\":\n",
    "        parameter_matrix = Table([\"Peak #\", \"amp\", \"cen\", \"wid\"])\n",
    "        for i in np.arange(len(detected_peaks)):\n",
    "            amp = guess_amp()\n",
    "            cen = detected_peaks[i]\n",
    "            wid = guess_wid()\n",
    "            parameter_matrix.append([i, amp, cen, wid])\n",
    "        return parameter_matrix\n",
    "    elif peak_type == \"gaussian\":\n",
    "        return False"
   ]
  },
  {
   "cell_type": "code",
   "execution_count": 92,
   "id": "b87a6bdf",
   "metadata": {},
   "outputs": [],
   "source": [
    "def guess_amp():\n",
    "    return 5"
   ]
  },
  {
   "cell_type": "code",
   "execution_count": 93,
   "id": "84ed9f64",
   "metadata": {},
   "outputs": [],
   "source": [
    "def guess_wid():\n",
    "    return 10"
   ]
  },
  {
   "cell_type": "code",
   "execution_count": 94,
   "id": "c1741a17",
   "metadata": {},
   "outputs": [],
   "source": [
    "# x - values where the function is calculated\n",
    "# y_0 - baseline\n",
    "# amp - area\n",
    "# cen - peak's center position\n",
    "# wid - controls full width half maximum of the function\n",
    "def lorentz(x, amp, cen, wid):\n",
    "    return (amp/np.pi)*(wid / ((x - cen) ** 2 + wid ** 2))"
   ]
  },
  {
   "cell_type": "code",
   "execution_count": 95,
   "id": "84c87a1e",
   "metadata": {},
   "outputs": [],
   "source": [
    "# x - values where the function is calculated\n",
    "# y_0 - baseline\n",
    "# height - height of peak\n",
    "# center - center of peak\n",
    "# std - standard deviation\n",
    "def gaussian(x, y_0, amp, cen, wid):\n",
    "    std=wid/2.355\n",
    "    return (amp / (std * np.sqrt(2*np.pi))) * (np.e ** -(((x - center) ** 2)) / 2 * std ** 2) + y_0"
   ]
  },
  {
   "cell_type": "code",
   "execution_count": 96,
   "id": "9e66e68e",
   "metadata": {},
   "outputs": [],
   "source": [
    "# returns an array of y values for each x value in spectrum. y values obtained using peak_parameters\n",
    "def reconstruct_spectrum(spectrum, peak_parameters):\n",
    "    def reconstruct_sum(x):\n",
    "        peaks = peak_parameters.with_columns(\"x\", [x for i in range(peak_parameters.num_rows)])\n",
    "        sum_peaks = peaks.apply(lorentz, \"x\", \"amp\", \"cen\", \"wid\")\n",
    "        return np.sum(sum_peaks)\n",
    "    reconstructed = [reconstruct_sum(x) for x in spectrum.column(\"x\")]\n",
    "    return reconstructed"
   ]
  },
  {
   "cell_type": "code",
   "execution_count": 97,
   "id": "0467c867",
   "metadata": {},
   "outputs": [],
   "source": [
    "def RMSPE(y_true, y_pred):\n",
    "    EPSILON = 1e-10\n",
    "    return (np.sqrt(np.mean(np.square((y_true + EPSILON - y_pred) / y_true + EPSILON)))) * 100"
   ]
  },
  {
   "cell_type": "markdown",
   "id": "e937fbd0",
   "metadata": {},
   "source": [
    "## Demo"
   ]
  },
  {
   "cell_type": "markdown",
   "id": "c42b8baf",
   "metadata": {},
   "source": [
    "fit_spectrum(spectrum, num_peaks, baseline_deg, baseline_tol, peak_type, error_type, tolerance, num_iterations, window_len, polyorder)"
   ]
  },
  {
   "cell_type": "code",
   "execution_count": 100,
   "id": "a3f4ba51",
   "metadata": {},
   "outputs": [
    {
     "name": "stdout",
     "output_type": "stream",
     "text": [
      "inf\n",
      "x       | y        | baseline\n",
      "500     | 1.02208  | 6.02185\n",
      "500.137 | 0.999696 | 6.02187\n",
      "500.274 | 0.977967 | 6.02189\n",
      "500.411 | 0.956895 | 6.02191\n",
      "500.547 | 0.936481 | 6.02193\n",
      "500.684 | 0.916725 | 6.02196\n",
      "500.821 | 0.897628 | 6.02198\n",
      "500.958 | 0.879188 | 6.022\n",
      "501.095 | 0.861407 | 6.02202\n",
      "501.232 | 0.844284 | 6.02205\n",
      "... (18261 rows omitted)\n",
      "spectrum rows  13742\n",
      "nrows  0\n",
      "inf\n",
      "x       | y        | baseline\n",
      "500     | 1.02208  | 0.823651\n",
      "500.137 | 0.999696 | 0.823669\n",
      "500.274 | 0.977967 | 0.823688\n",
      "500.411 | 0.956895 | 0.823706\n",
      "500.547 | 0.936481 | 0.823725\n",
      "500.684 | 0.916725 | 0.823743\n",
      "500.821 | 0.897628 | 0.823761\n",
      "500.958 | 0.879188 | 0.82378\n",
      "501.095 | 0.861407 | 0.823798\n",
      "501.232 | 0.844284 | 0.823817\n",
      "... (13732 rows omitted)\n",
      "spectrum rows  9610\n",
      "nrows  13742\n",
      "534.7249210521891\n",
      "x       | y        | baseline\n",
      "501.505 | 0.812011 | 0.317741\n",
      "501.642 | 0.796862 | 0.31774\n",
      "501.779 | 0.782371 | 0.317738\n",
      "501.916 | 0.774402 | 0.317736\n",
      "502.053 | 0.762265 | 0.317735\n",
      "502.189 | 0.750042 | 0.317733\n",
      "502.326 | 0.740009 | 0.317731\n",
      "502.463 | 0.72805  | 0.31773\n",
      "502.6   | 0.71687  | 0.317728\n",
      "502.737 | 0.705405 | 0.317726\n",
      "... (9600 rows omitted)\n",
      "spectrum rows  5601\n",
      "nrows  9610\n",
      "228.51585818054886\n",
      "x       | y        | baseline\n",
      "515.326 | 0.317217 | 0.191074\n",
      "515.463 | 0.314714 | 0.19107\n",
      "515.599 | 0.311374 | 0.191067\n",
      "515.736 | 0.306926 | 0.191063\n",
      "515.873 | 0.301619 | 0.19106\n",
      "516.01  | 0.29537  | 0.191056\n",
      "516.147 | 0.288226 | 0.191053\n",
      "516.284 | 0.280185 | 0.191049\n",
      "516.42  | 0.27178  | 0.191046\n",
      "516.557 | 0.263119 | 0.191042\n",
      "... (5591 rows omitted)\n",
      "spectrum rows  2803\n",
      "nrows  5601\n",
      "92.58912363492044\n",
      "x       | y         | baseline\n",
      "525.315 | 0.172681  | 0.10723\n",
      "525.452 | 0.155549  | 0.107228\n",
      "525.588 | 0.139963  | 0.107226\n",
      "525.725 | 0.126355  | 0.107223\n",
      "525.862 | 0.114751  | 0.107221\n",
      "525.999 | 0.105286  | 0.107219\n",
      "526.136 | 0.0983217 | 0.107217\n",
      "526.273 | 0.0935068 | 0.107215\n",
      "526.409 | 0.0908569 | 0.107213\n",
      "526.546 | 0.0904817 | 0.107211\n",
      "... (2793 rows omitted)\n",
      "spectrum rows  1268\n",
      "nrows  2803\n",
      "80.92514423707038\n",
      "x       | y         | baseline\n",
      "525.999 | 0.105286  | 0.056454\n",
      "526.136 | 0.0983217 | 0.0564527\n",
      "526.273 | 0.0935068 | 0.0564513\n",
      "526.409 | 0.0908569 | 0.0564499\n",
      "526.546 | 0.0904817 | 0.0564486\n",
      "526.683 | 0.09224   | 0.0564472\n",
      "526.82  | 0.0957718 | 0.0564458\n",
      "526.957 | 0.100331  | 0.0564444\n",
      "527.094 | 0.105261  | 0.0564431\n",
      "539.546 | 0.0970406 | 0.0563182\n",
      "... (1258 rows omitted)\n",
      "spectrum rows  640\n",
      "nrows  1268\n",
      "102.01968360426503\n",
      "x       | y            | baseline\n",
      "540.093 | 0.0456779    | 0.0284154\n",
      "540.23  | 0.0350135    | 0.0284145\n",
      "540.367 | 0.0253187    | 0.0284136\n",
      "540.504 | 0.0167286    | 0.0284127\n",
      "540.64  | 0.00986361   | 0.0284119\n",
      "540.777 | 0.00467066   | 0.028411\n",
      "540.914 | 0.00109757   | 0.0284101\n",
      "541.051 | -0.000509573 | 0.0284092\n",
      "541.188 | 0.000149378  | 0.0284083\n",
      "541.325 | 0.00361756   | 0.0284075\n",
      "... (630 rows omitted)\n",
      "spectrum rows  300\n",
      "nrows  640\n",
      "119.21408127813835\n",
      "x       | y            | baseline\n",
      "540.367 | 0.0253187    | 0.0113271\n",
      "540.504 | 0.0167286    | 0.0113265\n",
      "540.64  | 0.00986361   | 0.0113259\n",
      "540.777 | 0.00467066   | 0.0113253\n",
      "540.914 | 0.00109757   | 0.0113247\n",
      "541.051 | -0.000509573 | 0.0113241\n",
      "541.188 | 0.000149378  | 0.0113235\n",
      "541.325 | 0.00361756   | 0.0113229\n",
      "541.461 | 0.00948473   | 0.0113224\n",
      "541.598 | 0.017837     | 0.0113218\n",
      "... (290 rows omitted)\n",
      "spectrum rows  130\n",
      "nrows  300\n",
      "553.8502117654715\n",
      "x       | y            | baseline\n",
      "540.64  | 0.00986361   | 0.00209099\n",
      "540.777 | 0.00467066   | 0.00209033\n",
      "540.914 | 0.00109757   | 0.00208966\n",
      "541.051 | -0.000509573 | 0.002089\n",
      "541.188 | 0.000149378  | 0.00208834\n",
      "541.325 | 0.00361756   | 0.00208768\n",
      "541.461 | 0.00948473   | 0.00208701\n",
      "598.796 | 0.0101862    | 0.0018093\n",
      "598.933 | 0.00994024   | 0.00180864\n",
      "599.07  | 0.0106906    | 0.00180798\n",
      "... (120 rows omitted)\n",
      "spectrum rows  61\n",
      "nrows  130\n",
      "fitting\n"
     ]
    },
    {
     "ename": "AttributeError",
     "evalue": "'MinimizerResult' object has no attribute 'params'",
     "output_type": "error",
     "traceback": [
      "\u001b[0;31m---------------------------------------------------------------------------\u001b[0m",
      "\u001b[0;31mAttributeError\u001b[0m                            Traceback (most recent call last)",
      "\u001b[0;32m/var/folders/49/t941f47j2pl285g_6hhhngfc0000gn/T/ipykernel_19271/2886245227.py\u001b[0m in \u001b[0;36m<module>\u001b[0;34m\u001b[0m\n\u001b[0;32m----> 1\u001b[0;31m \u001b[0mx\u001b[0m \u001b[0;34m=\u001b[0m \u001b[0mfit_spectrum\u001b[0m\u001b[0;34m(\u001b[0m\u001b[0msample_spectrum\u001b[0m\u001b[0;34m,\u001b[0m \u001b[0;36m10\u001b[0m\u001b[0;34m,\u001b[0m \u001b[0;36m1\u001b[0m\u001b[0;34m,\u001b[0m \u001b[0;36m0.01\u001b[0m\u001b[0;34m,\u001b[0m \u001b[0;34m\"lorentz\"\u001b[0m\u001b[0;34m,\u001b[0m \u001b[0;34m\"MAPE\"\u001b[0m\u001b[0;34m,\u001b[0m \u001b[0;32mNone\u001b[0m\u001b[0;34m,\u001b[0m \u001b[0;36m10000000\u001b[0m\u001b[0;34m,\u001b[0m \u001b[0;36m27\u001b[0m\u001b[0;34m,\u001b[0m \u001b[0;36m2\u001b[0m\u001b[0;34m)\u001b[0m\u001b[0;34m\u001b[0m\u001b[0;34m\u001b[0m\u001b[0m\n\u001b[0m",
      "\u001b[0;32m/var/folders/49/t941f47j2pl285g_6hhhngfc0000gn/T/ipykernel_19271/2276474745.py\u001b[0m in \u001b[0;36mfit_spectrum\u001b[0;34m(spectrum, num_peaks, baseline_deg, baseline_tol, peak_type, error_type, tolerance, num_iterations, window_len, polyorder)\u001b[0m\n\u001b[1;32m     78\u001b[0m     \u001b[0mfitter\u001b[0m \u001b[0;34m=\u001b[0m \u001b[0mMinimizer\u001b[0m\u001b[0;34m(\u001b[0m\u001b[0merror\u001b[0m\u001b[0;34m,\u001b[0m \u001b[0minitial_guess\u001b[0m\u001b[0;34m)\u001b[0m\u001b[0;34m\u001b[0m\u001b[0;34m\u001b[0m\u001b[0m\n\u001b[1;32m     79\u001b[0m     \u001b[0mprint\u001b[0m\u001b[0;34m(\u001b[0m\u001b[0;34m\"fitting\"\u001b[0m\u001b[0;34m)\u001b[0m\u001b[0;34m\u001b[0m\u001b[0;34m\u001b[0m\u001b[0m\n\u001b[0;32m---> 80\u001b[0;31m     \u001b[0mmin_res\u001b[0m \u001b[0;34m=\u001b[0m \u001b[0mfitter\u001b[0m\u001b[0;34m.\u001b[0m\u001b[0mminimize\u001b[0m\u001b[0;34m(\u001b[0m\u001b[0mmethod\u001b[0m \u001b[0;34m=\u001b[0m \u001b[0;34m\"leastsq\"\u001b[0m\u001b[0;34m)\u001b[0m\u001b[0;34m\u001b[0m\u001b[0;34m\u001b[0m\u001b[0m\n\u001b[0m\u001b[1;32m     81\u001b[0m     \u001b[0mprint\u001b[0m\u001b[0;34m(\u001b[0m\u001b[0mmin_res\u001b[0m\u001b[0;34m.\u001b[0m\u001b[0msuccess\u001b[0m\u001b[0;34m)\u001b[0m\u001b[0;34m\u001b[0m\u001b[0;34m\u001b[0m\u001b[0m\n\u001b[1;32m     82\u001b[0m     \u001b[0mprint\u001b[0m\u001b[0;34m(\u001b[0m\u001b[0mmin_res\u001b[0m\u001b[0;34m.\u001b[0m\u001b[0mparams\u001b[0m\u001b[0;34m)\u001b[0m\u001b[0;34m\u001b[0m\u001b[0;34m\u001b[0m\u001b[0m\n",
      "\u001b[0;32m/Library/Frameworks/Python.framework/Versions/3.9/lib/python3.9/site-packages/lmfit/minimizer.py\u001b[0m in \u001b[0;36mminimize\u001b[0;34m(self, method, params, **kws)\u001b[0m\n\u001b[1;32m   2350\u001b[0m                         val.lower().startswith(user_method)):\n\u001b[1;32m   2351\u001b[0m                     \u001b[0mkwargs\u001b[0m\u001b[0;34m[\u001b[0m\u001b[0;34m'method'\u001b[0m\u001b[0;34m]\u001b[0m \u001b[0;34m=\u001b[0m \u001b[0mval\u001b[0m\u001b[0;34m\u001b[0m\u001b[0;34m\u001b[0m\u001b[0m\n\u001b[0;32m-> 2352\u001b[0;31m         \u001b[0;32mreturn\u001b[0m \u001b[0mfunction\u001b[0m\u001b[0;34m(\u001b[0m\u001b[0;34m**\u001b[0m\u001b[0mkwargs\u001b[0m\u001b[0;34m)\u001b[0m\u001b[0;34m\u001b[0m\u001b[0;34m\u001b[0m\u001b[0m\n\u001b[0m\u001b[1;32m   2353\u001b[0m \u001b[0;34m\u001b[0m\u001b[0m\n\u001b[1;32m   2354\u001b[0m \u001b[0;34m\u001b[0m\u001b[0m\n",
      "\u001b[0;32m/Library/Frameworks/Python.framework/Versions/3.9/lib/python3.9/site-packages/lmfit/minimizer.py\u001b[0m in \u001b[0;36mleastsq\u001b[0;34m(self, params, max_nfev, **kws)\u001b[0m\n\u001b[1;32m   1658\u001b[0m \u001b[0;34m\u001b[0m\u001b[0m\n\u001b[1;32m   1659\u001b[0m         \"\"\"\n\u001b[0;32m-> 1660\u001b[0;31m         \u001b[0mresult\u001b[0m \u001b[0;34m=\u001b[0m \u001b[0mself\u001b[0m\u001b[0;34m.\u001b[0m\u001b[0mprepare_fit\u001b[0m\u001b[0;34m(\u001b[0m\u001b[0mparams\u001b[0m\u001b[0;34m=\u001b[0m\u001b[0mparams\u001b[0m\u001b[0;34m)\u001b[0m\u001b[0;34m\u001b[0m\u001b[0;34m\u001b[0m\u001b[0m\n\u001b[0m\u001b[1;32m   1661\u001b[0m         \u001b[0mresult\u001b[0m\u001b[0;34m.\u001b[0m\u001b[0mmethod\u001b[0m \u001b[0;34m=\u001b[0m \u001b[0;34m'leastsq'\u001b[0m\u001b[0;34m\u001b[0m\u001b[0;34m\u001b[0m\u001b[0m\n\u001b[1;32m   1662\u001b[0m         \u001b[0mresult\u001b[0m\u001b[0;34m.\u001b[0m\u001b[0mnfev\u001b[0m \u001b[0;34m-=\u001b[0m \u001b[0;36m2\u001b[0m  \u001b[0;31m# correct for \"pre-fit\" initialization/checks\u001b[0m\u001b[0;34m\u001b[0m\u001b[0;34m\u001b[0m\u001b[0m\n",
      "\u001b[0;32m/Library/Frameworks/Python.framework/Versions/3.9/lib/python3.9/site-packages/lmfit/minimizer.py\u001b[0m in \u001b[0;36mprepare_fit\u001b[0;34m(self, params)\u001b[0m\n\u001b[1;32m    713\u001b[0m         \u001b[0mresult\u001b[0m\u001b[0;34m.\u001b[0m\u001b[0mvar_names\u001b[0m \u001b[0;34m=\u001b[0m \u001b[0;34m[\u001b[0m\u001b[0;34m]\u001b[0m  \u001b[0;31m# note that this *does* belong to self...\u001b[0m\u001b[0;34m\u001b[0m\u001b[0;34m\u001b[0m\u001b[0m\n\u001b[1;32m    714\u001b[0m         \u001b[0mresult\u001b[0m\u001b[0;34m.\u001b[0m\u001b[0minit_vals\u001b[0m \u001b[0;34m=\u001b[0m \u001b[0;34m[\u001b[0m\u001b[0;34m]\u001b[0m\u001b[0;34m\u001b[0m\u001b[0;34m\u001b[0m\u001b[0m\n\u001b[0;32m--> 715\u001b[0;31m         \u001b[0mresult\u001b[0m\u001b[0;34m.\u001b[0m\u001b[0mparams\u001b[0m\u001b[0;34m.\u001b[0m\u001b[0mupdate_constraints\u001b[0m\u001b[0;34m(\u001b[0m\u001b[0;34m)\u001b[0m\u001b[0;34m\u001b[0m\u001b[0;34m\u001b[0m\u001b[0m\n\u001b[0m\u001b[1;32m    716\u001b[0m         \u001b[0mresult\u001b[0m\u001b[0;34m.\u001b[0m\u001b[0mnfev\u001b[0m \u001b[0;34m=\u001b[0m \u001b[0;36m0\u001b[0m\u001b[0;34m\u001b[0m\u001b[0;34m\u001b[0m\u001b[0m\n\u001b[1;32m    717\u001b[0m         \u001b[0mresult\u001b[0m\u001b[0;34m.\u001b[0m\u001b[0mcall_kws\u001b[0m \u001b[0;34m=\u001b[0m \u001b[0;34m{\u001b[0m\u001b[0;34m}\u001b[0m\u001b[0;34m\u001b[0m\u001b[0;34m\u001b[0m\u001b[0m\n",
      "\u001b[0;31mAttributeError\u001b[0m: 'MinimizerResult' object has no attribute 'params'"
     ]
    }
   ],
   "source": [
    "x = fit_spectrum(sample_spectrum, 10, 1, 0.01, \"lorentz\", \"MAPE\", None, 10000000, 27, 2)"
   ]
  },
  {
   "cell_type": "code",
   "execution_count": null,
   "id": "1adf3928",
   "metadata": {},
   "outputs": [],
   "source": [
    "plots.plot(sample_spectrum.column(\"x\"), sample_spectrum.column(\"y\"))"
   ]
  },
  {
   "cell_type": "code",
   "execution_count": 89,
   "id": "b7730a88",
   "metadata": {},
   "outputs": [
    {
     "data": {
      "text/plain": [
       "[<matplotlib.lines.Line2D at 0x7fc6f111c7c0>]"
      ]
     },
     "execution_count": 89,
     "metadata": {},
     "output_type": "execute_result"
    },
    {
     "data": {
      "image/png": "[encoded data removed]",
      "text/plain": [
       "<Figure size 720x504 with 1 Axes>"
      ]
     },
     "metadata": {
      "needs_background": "light"
     },
     "output_type": "display_data"
    }
   ],
   "source": [
    "y_offset = sample_spectrum.apply(lambda x: -0.00002 * (x-1700)**2 + 40, \"x\")\n",
    "new_y = sample_spectrum.column(\"y\") + y_offset\n",
    "test_spectrum = Table().with_columns(\"x\", sample_spectrum.column(\"x\"), \"y\", new_y)\n",
    "sample_spectrum = test_spectrum\n",
    "plots.plot(sample_spectrum.column(\"x\"), sample_spectrum.column(\"y\"))"
   ]
  },
  {
   "cell_type": "code",
   "execution_count": 90,
   "id": "f6f90129",
   "metadata": {},
   "outputs": [],
   "source": [
    "restricted_spectrum = sample_spectrum.where(\"x\", are.between_or_equal_to(500, min(3000, max(sample_spectrum.column(\"x\")))))\n",
    "# Smooth signal with Savitsky-Golay filter\n",
    "smoothed_y = scipy.signal.savgol_filter(restricted_spectrum.column(\"y\"), 27, 2)\n",
    "smoothed_spectrum = Table().with_columns(\"x\", restricted_spectrum.column(\"x\"), \"y\", smoothed_y)"
   ]
  },
  {
   "cell_type": "code",
   "execution_count": 91,
   "id": "8dfd1640",
   "metadata": {},
   "outputs": [
    {
     "data": {
      "text/plain": [
       "[<matplotlib.lines.Line2D at 0x7fc6f1181700>]"
      ]
     },
     "execution_count": 91,
     "metadata": {},
     "output_type": "execute_result"
    },
    {
     "data": {
      "image/png": "[encoded data removed]",
      "text/plain": [
       "<Figure size 720x504 with 1 Axes>"
      ]
     },
     "metadata": {
      "needs_background": "light"
     },
     "output_type": "display_data"
    }
   ],
   "source": [
    "plots.plot(smoothed_spectrum.column(\"x\"), smoothed_spectrum.column(\"y\"))"
   ]
  },
  {
   "cell_type": "code",
   "execution_count": 92,
   "id": "53175599",
   "metadata": {},
   "outputs": [],
   "source": [
    "sample_spectrum = smoothed_spectrum"
   ]
  },
  {
   "cell_type": "code",
   "execution_count": 98,
   "id": "7a1f4f3d",
   "metadata": {},
   "outputs": [
    {
     "name": "stdout",
     "output_type": "stream",
     "text": [
      "inf\n",
      "x    | y       | baseline\n",
      "500  | 30.2582 | 25.0327\n",
      "501  | 30.7722 | 25.2176\n",
      "503  | 31.2594 | 25.587\n",
      "505  | 31.7197 | 25.9559\n",
      "507  | 32.1531 | 26.3241\n",
      "509  | 32.5597 | 26.6918\n",
      "511  | 32.9394 | 27.0589\n",
      "513  | 33.2923 | 27.4254\n",
      "515  | 33.6183 | 27.7913\n",
      "517  | 33.9174 | 28.1567\n",
      "... (1290 rows omitted)\n",
      "spectrum rows  1001\n",
      "nrows  0\n",
      "inf\n",
      "x    | y       | baseline\n",
      "550  | 33.5744 | 32.6162\n",
      "552  | 30.9592 | 32.8217\n",
      "554  | 29.2889 | 33.0269\n",
      "555  | 29.7042 | 33.1293\n",
      "557  | 31.3065 | 33.3339\n",
      "559  | 31.1611 | 33.5382\n",
      "561  | 29.9727 | 33.7422\n",
      "563  | 29.5848 | 33.9458\n",
      "565  | 30.7169 | 34.149\n",
      "567  | 31.0827 | 34.352\n",
      "... (991 rows omitted)\n",
      "spectrum rows  611\n",
      "nrows  1001\n",
      "45.726052983374835\n",
      "x    | y       | baseline\n",
      "552  | 30.9592 | 26.0741\n",
      "554  | 29.2889 | 26.2745\n",
      "555  | 29.7042 | 26.3745\n",
      "557  | 31.3065 | 26.5744\n",
      "559  | 31.1611 | 26.774\n",
      "561  | 29.9727 | 26.9732\n",
      "563  | 29.5848 | 27.1721\n",
      "565  | 30.7169 | 27.3706\n",
      "567  | 31.0827 | 27.5688\n",
      "569  | 32.97   | 27.7667\n",
      "... (601 rows omitted)\n",
      "spectrum rows  277\n",
      "nrows  611\n",
      "11.173434047986401\n",
      "x    | y       | baseline\n",
      "906  | 54.619  | 49.7704\n",
      "908  | 53.669  | 49.9274\n",
      "910  | 51.7589 | 50.0841\n",
      "912  | 49.3956 | 50.2404\n",
      "914  | 46.9295 | 50.3964\n",
      "916  | 46.5006 | 50.5519\n",
      "918  | 49.0589 | 50.7071\n",
      "920  | 50.0794 | 50.862\n",
      "922  | 51.4537 | 51.0165\n",
      "924  | 52.8811 | 51.1706\n",
      "... (267 rows omitted)\n",
      "spectrum rows  117\n",
      "nrows  277\n",
      "10.011710044946513\n",
      "x    | y       | baseline\n",
      "912  | 49.3956 | 45.6814\n",
      "914  | 46.9295 | 45.8435\n",
      "916  | 46.5006 | 46.0051\n",
      "918  | 49.0589 | 46.1664\n",
      "920  | 50.0794 | 46.3274\n",
      "955  | 51.576  | 49.0837\n",
      "957  | 50.1241 | 49.2378\n",
      "959  | 50.7327 | 49.3915\n",
      "960  | 50.7132 | 49.4682\n",
      "962  | 50.8    | 49.6214\n",
      "... (107 rows omitted)\n",
      "spectrum rows  51\n",
      "nrows  117\n"
     ]
    },
    {
     "data": {
      "text/plain": [
       "[<matplotlib.lines.Line2D at 0x7fc6e016dfa0>]"
      ]
     },
     "execution_count": 98,
     "metadata": {},
     "output_type": "execute_result"
    },
    {
     "data": {
      "image/png": "[encoded data removed]",
      "text/plain": [
       "<Figure size 720x504 with 1 Axes>"
      ]
     },
     "metadata": {
      "needs_background": "light"
     },
     "output_type": "display_data"
    }
   ],
   "source": [
    "#y_offset = sample_spectrum.apply(lambda x: -0.00002 * (x-1700)**2 + 40, \"x\")\n",
    "#new_y = sample_spectrum.column(\"y\") + y_offset\n",
    "#test_spectrum = Table().with_columns(\"x\", sample_spectrum.column(\"x\"), \"y\", new_y)\n",
    "test_spectrum = smoothed_spectrum\n",
    "\n",
    "kachow = baseline(test_spectrum, 2, .01)\n",
    "\n",
    "plots.plot(sample_spectrum.column(\"x\"), test_spectrum.column(\"y\"))\n",
    "plots.plot(sample_spectrum.column(\"x\"), kachow)"
   ]
  },
  {
   "cell_type": "code",
   "execution_count": null,
   "id": "fea57ded",
   "metadata": {},
   "outputs": [],
   "source": []
  }
 ],
 "metadata": {
  "kernelspec": {
   "display_name": "Python 3 (ipykernel)",
   "language": "python",
   "name": "python3"
  },
  "language_info": {
   "codemirror_mode": {
    "name": "ipython",
    "version": 3
   },
   "file_extension": ".py",
   "mimetype": "text/x-python",
   "name": "python",
   "nbconvert_exporter": "python",
   "pygments_lexer": "ipython3",
   "version": "3.9.6"
  }
 },
 "nbformat": 4,
 "nbformat_minor": 5
}
