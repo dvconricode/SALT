{
 "cells": [
  {
   "cell_type": "markdown",
   "id": "4b2b130e",
   "metadata": {},
   "source": [
    "## Imports"
   ]
  },
  {
   "cell_type": "code",
   "execution_count": 47,
   "id": "21592f7f",
   "metadata": {},
   "outputs": [],
   "source": [
    "import math\n",
    "import matplotlib\n",
    "import matplotlib.pyplot as plots\n",
    "import numpy as np\n",
    "import pandas as pd\n",
    "import scipy\n",
    "import sklearn\n",
    "\n",
    "from scipy import *\n",
    "from scipy.signal import find_peaks, find_peaks_cwt, savgol_filter\n",
    "from sklearn.metrics import mean_absolute_error\n",
    "\n",
    "%matplotlib inline\n",
    "plots.rcParams[\"figure.figsize\"] = (10,7)\n",
    "\n",
    "import time"
   ]
  },
  {
   "cell_type": "markdown",
   "id": "010a4bb8",
   "metadata": {},
   "source": [
    "## Data\n",
    "`Peak_Interval_List.csv` and `Ig110postbakemap9476.CSV` from\n",
    "Graphite Raman Mapping (Project 31) on Box."
   ]
  },
  {
   "cell_type": "code",
   "execution_count": 48,
   "id": "998f0300",
   "metadata": {},
   "outputs": [
    {
     "data": {
      "text/plain": [
       "[<matplotlib.lines.Line2D at 0x7fc3c37ca2b0>]"
      ]
     },
     "execution_count": 48,
     "metadata": {},
     "output_type": "execute_result"
    },
    {
     "data": {
      "image/png": "[encoded data removed]",
      "text/plain": [
       "<Figure size 720x504 with 1 Axes>"
      ]
     },
     "metadata": {
      "needs_background": "light"
     },
     "output_type": "display_data"
    }
   ],
   "source": [
    "peak_intervals = pd.read_csv(\"Peak_List.csv\")\n",
    "sample_spectrum = pd.read_table(\"Data/JQ2a2_16.csv\", sep=\",\")\n",
    "plots.plot(sample_spectrum[\"x\"], sample_spectrum[\"y\"])"
   ]
  },
  {
   "cell_type": "code",
   "execution_count": 49,
   "id": "548ff305",
   "metadata": {
    "scrolled": true
   },
   "outputs": [
    {
     "data": {
      "text/html": [
       "<div>\n",
       "<style scoped>\n",
       "    .dataframe tbody tr th:only-of-type {\n",
       "        vertical-align: middle;\n",
       "    }\n",
       "\n",
       "    .dataframe tbody tr th {\n",
       "        vertical-align: top;\n",
       "    }\n",
       "\n",
       "    .dataframe thead th {\n",
       "        text-align: right;\n",
       "    }\n",
       "</style>\n",
       "<table border=\"1\" class=\"dataframe\">\n",
       "  <thead>\n",
       "    <tr style=\"text-align: right;\">\n",
       "      <th></th>\n",
       "      <th>Peak Name</th>\n",
       "      <th>Peak Number</th>\n",
       "      <th>Optional?</th>\n",
       "      <th>Min Bound X</th>\n",
       "      <th>Max Bound X</th>\n",
       "    </tr>\n",
       "  </thead>\n",
       "  <tbody>\n",
       "    <tr>\n",
       "      <th>0</th>\n",
       "      <td>Pre-D</td>\n",
       "      <td>1</td>\n",
       "      <td>Yes</td>\n",
       "      <td>1000</td>\n",
       "      <td>1320</td>\n",
       "    </tr>\n",
       "    <tr>\n",
       "      <th>1</th>\n",
       "      <td>D</td>\n",
       "      <td>2</td>\n",
       "      <td>No</td>\n",
       "      <td>1340</td>\n",
       "      <td>1360</td>\n",
       "    </tr>\n",
       "    <tr>\n",
       "      <th>2</th>\n",
       "      <td>D-G shoulder</td>\n",
       "      <td>3</td>\n",
       "      <td>Yes</td>\n",
       "      <td>1370</td>\n",
       "      <td>1550</td>\n",
       "    </tr>\n",
       "    <tr>\n",
       "      <th>3</th>\n",
       "      <td>G</td>\n",
       "      <td>4</td>\n",
       "      <td>No</td>\n",
       "      <td>1560</td>\n",
       "      <td>1600</td>\n",
       "    </tr>\n",
       "    <tr>\n",
       "      <th>4</th>\n",
       "      <td>D' shoulder</td>\n",
       "      <td>5</td>\n",
       "      <td>No</td>\n",
       "      <td>1600</td>\n",
       "      <td>1630</td>\n",
       "    </tr>\n",
       "    <tr>\n",
       "      <th>5</th>\n",
       "      <td>T+D</td>\n",
       "      <td>6</td>\n",
       "      <td>Yes</td>\n",
       "      <td>2300</td>\n",
       "      <td>2500</td>\n",
       "    </tr>\n",
       "    <tr>\n",
       "      <th>6</th>\n",
       "      <td>G'_3Da</td>\n",
       "      <td>7</td>\n",
       "      <td>No</td>\n",
       "      <td>2640</td>\n",
       "      <td>2690</td>\n",
       "    </tr>\n",
       "    <tr>\n",
       "      <th>7</th>\n",
       "      <td>G'_2D</td>\n",
       "      <td>8</td>\n",
       "      <td>No</td>\n",
       "      <td>2680</td>\n",
       "      <td>2720</td>\n",
       "    </tr>\n",
       "    <tr>\n",
       "      <th>8</th>\n",
       "      <td>G'_3DB</td>\n",
       "      <td>9</td>\n",
       "      <td>No</td>\n",
       "      <td>2700</td>\n",
       "      <td>2740</td>\n",
       "    </tr>\n",
       "    <tr>\n",
       "      <th>9</th>\n",
       "      <td>D'+D</td>\n",
       "      <td>10</td>\n",
       "      <td>No</td>\n",
       "      <td>2850</td>\n",
       "      <td>2950</td>\n",
       "    </tr>\n",
       "  </tbody>\n",
       "</table>\n",
       "</div>"
      ],
      "text/plain": [
       "      Peak Name  Peak Number Optional?  Min Bound X  Max Bound X\n",
       "0         Pre-D            1       Yes         1000         1320\n",
       "1             D            2        No         1340         1360\n",
       "2  D-G shoulder            3       Yes         1370         1550\n",
       "3             G            4        No         1560         1600\n",
       "4   D' shoulder            5        No         1600         1630\n",
       "5           T+D            6       Yes         2300         2500\n",
       "6        G'_3Da            7        No         2640         2690\n",
       "7         G'_2D            8        No         2680         2720\n",
       "8        G'_3DB            9        No         2700         2740\n",
       "9          D'+D           10        No         2850         2950"
      ]
     },
     "execution_count": 49,
     "metadata": {},
     "output_type": "execute_result"
    }
   ],
   "source": [
    "peak_intervals"
   ]
  },
  {
   "cell_type": "markdown",
   "id": "c4cf50cf",
   "metadata": {},
   "source": [
    "## Driver Function\n",
    "`spectrum`: table with two columns: x and y <br>  \n",
    "`num_peaks`: int, how many peaks to fit with <br>  \n",
    "`baseline_deg`: degree of polynomial to fit baseline with  <br>  \n",
    "`baseline_tol`: tolerance to stop baseline iteration  <br>  \n",
    "`peak_type`: lorentz/gaussian, later add option to choose others (examples in the matlab, should be able to express with the same parameters) <br>  \n",
    "`error`: MAE, MSE, etc. <br>  \n",
    "`tolerance`: to within what error should we fit <br>  \n",
    "`num_iterations`: how many iterations should we go through <br>  \n",
    "`window_len`: length of savitsky-golay filter window <br>  \n",
    "`polyorder`: order of polynomial to fit samples in savitsky-golay"
   ]
  },
  {
   "cell_type": "code",
   "execution_count": 50,
   "id": "8ce30a4f",
   "metadata": {},
   "outputs": [],
   "source": [
    "INITIAL_GUESS = np.asarray([7.37908, 34.97015, 3.65915, 36.15784, 4.22964, 2.89295, 5.91514, 17.67787, 10.7548, 2.4001,\n",
    "                            1275.74783, 1348.01504, 1493.83166, 1581.71285, 1620.46057, 2456.79433, 2666.37302, 2694.74791, 2721.62489, 2940.27771,\n",
    "                            215.7532, 44.50159, 92.21057, 23.70187, 24.28155, 67.71584, 59.9331, 47.47378, 40.57773, 58.14838])"
   ]
  },
  {
   "cell_type": "code",
   "execution_count": 92,
   "id": "03ae56b6",
   "metadata": {},
   "outputs": [],
   "source": [
    "def fit_spectrum(spectrum, num_peaks, baseline_deg, baseline_tol, peak_type, error_type, tolerance, \n",
    "                 num_iterations, window_len, polyorder):\n",
    "    # Restruct x data to 500-3000\n",
    "    restricted_spectrum = spectrum[spectrum[\"x\"].between(500, min(3000, spectrum[\"x\"].max()))]\n",
    "    # Smooth signal with Savistky-Golay filter\n",
    "    smoothed_y = scipy.signal.savgol_filter(restricted_spectrum[\"y\"], window_len, polyorder)\n",
    "    smoothed_spectrum = restricted_spectrum.assign(y=smoothed_y)\n",
    "    # Remove baseline\n",
    "    baseline_removed_spectrum = remove_baseline(smoothed_spectrum, baseline_deg, baseline_tol)\n",
    "    # Normalize spectrum\n",
    "    normalized_y = ((baseline_removed_spectrum[\"y\"] - baseline_removed_spectrum[\"y\"].min()) / \n",
    "        (baseline_removed_spectrum[\"y\"].max() - baseline_removed_spectrum[\"y\"].min()))\n",
    "    normalized_spectrum = smoothed_spectrum.assign(y=normalized_y)\n",
    "    \n",
    "    # Create bounds\n",
    "    amp_bounds = [(0.0001, 300) for i in range(num_peaks)]\n",
    "    min_x = peak_intervals[\"Min Bound X\"]\n",
    "    max_x = peak_intervals[\"Max Bound X\"]\n",
    "    cen_bounds = [(min_x[i], max_x[i]) for i in range(num_peaks)]\n",
    "    wid_bounds = [(0.0001, 400) for i in range(num_peaks)]\n",
    "    bounds = amp_bounds + cen_bounds + wid_bounds\n",
    "    \n",
    "    # Create constraints\n",
    "    # ensure center of peak 9 > peak 8\n",
    "    cons1 = {\"type\": \"ineq\", \"fun\": lambda arr: arr[num_peaks + 8] - arr[num_peaks + 7]}\n",
    "    # upper bound for peak 7 : peak 9 (amplitude)\n",
    "    cons2 = {\"type\": \"ineq\", \"fun\": lambda arr: arr[6] / arr[8] - 0.45}\n",
    "    # lower bound for peak 7 : peak 9 (amplitude)\n",
    "    cons3 = {\"type\": \"ineq\", \"fun\": lambda arr: -(arr[6] / arr[8]) + 0.55}\n",
    "    constraints = [cons1, cons2, cons3]\n",
    "    \n",
    "    # for testing purposes\n",
    "    constraints = None\n",
    "    \n",
    "    # Initial guess\n",
    "    initial_guess = INITIAL_GUESS\n",
    "    # minimization\n",
    "    error = error_between(normalized_spectrum, error_type, num_peaks)\n",
    "    results = scipy.optimize.minimize(error, initial_guess, bounds=bounds, tol=tolerance,\n",
    "                                     options={\"maxiter\": num_iterations}, constraints=constraints)\n",
    "    \n",
    "    # Plotting\n",
    "    plot_spectrum(normalized_spectrum, results.x, num_peaks)\n",
    "    \n",
    "    return results"
   ]
  },
  {
   "cell_type": "markdown",
   "id": "18df89ab",
   "metadata": {},
   "source": [
    "## Error function"
   ]
  },
  {
   "cell_type": "code",
   "execution_count": 52,
   "id": "67b73183",
   "metadata": {},
   "outputs": [],
   "source": [
    "def error_between(original, error_type, num_peaks):\n",
    "    def error(guess_array):\n",
    "        amp = guess_array[0:num_peaks]\n",
    "        cen = guess_array[num_peaks:2*num_peaks]\n",
    "        wid = guess_array[2*num_peaks:3*num_peaks]\n",
    "        guess_peaks = pd.DataFrame({\"amp\": amp, \"cen\": cen, \"wid\": wid})\n",
    "        reconstructed = reconstruct_spectrum(original[\"x\"], guess_peaks)\n",
    "\n",
    "        if error_type == \"MAE\":\n",
    "            e = sklearn.metrics.mean_absolute_error(original[\"y\"], reconstructed)\n",
    "        elif error_type == \"MSE\":\n",
    "            e = sklearn.metrics.mean_squared_error(original[\"y\"], reconstructed)\n",
    "        elif error_type == \"MAPE\":\n",
    "            e = sklearn.metrics.mean_absolute_percentage_error(original[\"y\"], reconstructed)\n",
    "        elif error_type == \"RMSPE\":\n",
    "            e = RMSPE(original[\"y\"], reconstructed)\n",
    "        else:\n",
    "            raise Exception(\"Error type not supported\")\n",
    "        return e\n",
    "    return error"
   ]
  },
  {
   "cell_type": "markdown",
   "id": "7c35558b",
   "metadata": {},
   "source": [
    "## Plotting\n",
    "Plots original, reconstructed, and every individual peak"
   ]
  },
  {
   "cell_type": "code",
   "execution_count": 53,
   "id": "577c875a",
   "metadata": {},
   "outputs": [],
   "source": [
    "def plot_spectrum(original, parameter_vector, num_peaks):\n",
    "    amp = parameter_vector[0:num_peaks]\n",
    "    cen = parameter_vector[num_peaks:2*num_peaks]\n",
    "    wid = parameter_vector[2*num_peaks:3*num_peaks]\n",
    "    parameter_matrix = pd.DataFrame({\"amp\": amp, \"cen\": cen, \"wid\": wid})\n",
    "    reconstructed_y = reconstruct_spectrum(original[\"x\"], parameter_matrix)\n",
    "    plots.plot(original[\"x\"], original[\"y\"], color=\"red\", label=\"Real\")\n",
    "    plots.plot(original[\"x\"], reconstructed_y, color=\"blue\", label=\"Reconstructed\")\n",
    "    \n",
    "    result_dict = {\"Peak #\": np.arange(num_peaks),\n",
    "                    \"amp\": parameter_vector[0:num_peaks],\n",
    "                    \"cen\": parameter_vector[num_peaks:2*num_peaks],\n",
    "                    \"wid\": parameter_vector[2*num_peaks:3*num_peaks]}\n",
    "    result_matrix = pd.DataFrame(result_dict)\n",
    "    for i in range(num_peaks):\n",
    "        parameters_i = result_matrix.iloc[i]\n",
    "        amp_i = parameters_i[\"amp\"]\n",
    "        cen_i = parameters_i[\"cen\"]\n",
    "        wid_i = parameters_i[\"wid\"]\n",
    "        peak_i = [lorentz(x, amp_i, cen_i, wid_i) for x in original[\"x\"]]\n",
    "        plots.plot(original[\"x\"], peak_i, color=\"green\", label=f\"Peak{i+1}\")\n",
    "                   \n",
    "    plots.legend()\n",
    "    return"
   ]
  },
  {
   "cell_type": "markdown",
   "id": "f83a38a7",
   "metadata": {},
   "source": [
    "## Baseline Fitting\n",
    "\n",
    "Returns array same length as spectrum x. "
   ]
  },
  {
   "cell_type": "code",
   "execution_count": 54,
   "id": "a0dc83ec",
   "metadata": {},
   "outputs": [],
   "source": [
    "def baseline(spectrum, deg, tol):\n",
    "    s = spectrum\n",
    "    e = float(inf)\n",
    "    old_coefs = None\n",
    "    nrows = 0\n",
    "    \n",
    "    while e > tol:\n",
    "        if len(spectrum.index) == 0:\n",
    "            break\n",
    "        # create fit line w/ np.polyfit & turn into a function w/ polyn\n",
    "        coef = np.polyfit(spectrum[\"x\"], spectrum[\"y\"], deg, full=False)\n",
    "        polyn = make_polynomial(coef, deg)\n",
    "        # re-fit line to remaining points\n",
    "        \n",
    "        baseline_fit = spectrum[\"x\"].apply(polyn)\n",
    "        \n",
    "        # do error b/t previous line\n",
    "        if type(old_coefs) != type(None):\n",
    "            e = RMSPE(baseline_fit, spectrum[\"x\"].apply(make_polynomial(old_coef, deg)))\n",
    "        # remove any points above fit line\n",
    "        spectrum = spectrum[spectrum[\"y\"] <= baseline_fit]\n",
    "        # repeat until fitting error < tol or # points doesn't change\n",
    "        old_coef = coef\n",
    "        # additional case to ensure enough of baseline remains - could modify starting condition instead\n",
    "        if abs(nrows - len(spectrum.index)) < 75:\n",
    "            break\n",
    "        if len(spectrum.index) == nrows:\n",
    "            print(\"nrows exit\")\n",
    "            break\n",
    "        nrows = len(spectrum.index)\n",
    "    # changed spectrum\n",
    "    baseline_ret = s[\"x\"].apply(polyn)\n",
    "    return baseline_ret           "
   ]
  },
  {
   "cell_type": "code",
   "execution_count": 55,
   "id": "39f81503",
   "metadata": {},
   "outputs": [],
   "source": [
    "# takes in a table and returns a table w/ same columns & dimensions\n",
    "def remove_baseline(spectrum, deg, tol):\n",
    "    bl = baseline(spectrum, deg, tol)\n",
    "    spectrum[\"y\"] = spectrum[\"y\"] - bl\n",
    "    return spectrum"
   ]
  },
  {
   "cell_type": "code",
   "execution_count": 56,
   "id": "640b10e7",
   "metadata": {},
   "outputs": [],
   "source": [
    "# returns a single-variable polynomial function of degree deg from coefficients coef\n",
    "def make_polynomial(coef, deg):\n",
    "    # takes in an array of x values and returns an array of y values of the same dimension\n",
    "    def polyn(x):\n",
    "        y = 0\n",
    "        for i in range(deg + 1):\n",
    "            y += pow(x, deg - i) * coef[i]\n",
    "        return y\n",
    "    return polyn"
   ]
  },
  {
   "cell_type": "code",
   "execution_count": 57,
   "id": "e0f857b2",
   "metadata": {},
   "outputs": [],
   "source": [
    "# returns an array with num_peaks x-values set to the midpoint of their bounds\n",
    "# add option to remove peaks that are not required for lower num_peaks\n",
    "def detect_peaks(spectra, num_peaks):\n",
    "    midpoints = (peak_intervals.column(\"Min Bound X\") + peak_intervals.column(\"Max Bound X\")) / 2\n",
    "    return midpoints"
   ]
  },
  {
   "cell_type": "code",
   "execution_count": 58,
   "id": "2091e2c4",
   "metadata": {},
   "outputs": [],
   "source": [
    "# returns a matrix of initial guesses\n",
    "# dimensions 4 x num_peaks (4 = num parameters - x)\n",
    "def create_peaks(peak_type, detected_peaks):\n",
    "    if peak_type == \"lorentz\":\n",
    "        parameter_matrix = Table([\"Peak #\", \"amp\", \"cen\", \"wid\"])\n",
    "        for i in np.arange(len(detected_peaks)):\n",
    "            amp = guess_amp()\n",
    "            cen = detected_peaks[i]\n",
    "            wid = guess_wid()\n",
    "            parameter_matrix.append([i, amp, cen, wid])\n",
    "        return parameter_matrix\n",
    "    elif peak_type == \"gaussian\":\n",
    "        return False"
   ]
  },
  {
   "cell_type": "code",
   "execution_count": 59,
   "id": "c1741a17",
   "metadata": {},
   "outputs": [],
   "source": [
    "# x - values where the function is calculated\n",
    "# y_0 - baseline\n",
    "# amp - area\n",
    "# cen - peak's center position\n",
    "# wid - controls full width half maximum of the function\n",
    "def lorentz(x, amp, cen, wid):\n",
    "    return (amp/np.pi)*(wid / ((x - cen) ** 2 + wid ** 2))"
   ]
  },
  {
   "cell_type": "code",
   "execution_count": 60,
   "id": "84c87a1e",
   "metadata": {},
   "outputs": [],
   "source": [
    "# x - values where the function is calculated\n",
    "# y_0 - baseline\n",
    "# height - height of peak\n",
    "# center - center of peak\n",
    "# std - standard deviation\n",
    "def gaussian(x, y_0, amp, cen, wid):\n",
    "    std=wid/2.355\n",
    "    return (amp / (std * np.sqrt(2*np.pi))) * (np.e ** -(((x - center) ** 2)) / 2 * std ** 2) + y_0"
   ]
  },
  {
   "cell_type": "code",
   "execution_count": 89,
   "id": "9e66e68e",
   "metadata": {},
   "outputs": [],
   "source": [
    "# returns an array of y values for each x value in spectrum. y values obtained using peak_parameters\n",
    "def reconstruct_spectrum(spectrum_x, peak_parameters):\n",
    "    def reconstruct_sum(x):\n",
    "        sum_peaks = peak_parameters.apply(lambda params: lorentz(x, params[0], params[1], params[2]), axis=1, raw=True)\n",
    "        return np.sum(sum_peaks)\n",
    "    reconstructed = [reconstruct_sum(x) for x in spectrum_x]\n",
    "    return reconstructed"
   ]
  },
  {
   "cell_type": "code",
   "execution_count": 86,
   "id": "0467c867",
   "metadata": {},
   "outputs": [],
   "source": [
    "def RMSPE(y_true, y_pred):\n",
    "    EPSILON = 1e-10\n",
    "    return (np.sqrt(np.mean(np.square((y_true + EPSILON - y_pred) / y_true + EPSILON)))) * 100"
   ]
  },
  {
   "cell_type": "markdown",
   "id": "e937fbd0",
   "metadata": {},
   "source": [
    "# Testing - Optimization"
   ]
  },
  {
   "cell_type": "markdown",
   "id": "2db7e7c5",
   "metadata": {},
   "source": [
    "May take up to 3.5 minutes to run with 0.000001 tolerance"
   ]
  },
  {
   "cell_type": "code",
   "execution_count": 94,
   "id": "a3f4ba51",
   "metadata": {
    "scrolled": true
   },
   "outputs": [
    {
     "data": {
      "text/plain": [
       "      fun: 1.0380661806444673\n",
       " hess_inv: <30x30 LbfgsInvHessProduct with dtype=float64>\n",
       "      jac: array([ 1.76828770e+01,  8.79802549e+00,  9.38462390e+00,  1.49539355e+01,\n",
       "        1.67531337e+01,  1.71309374e+02,  4.76799534e+01,  4.13393753e+01,\n",
       "        3.77899229e+01,  1.77071622e+01, -8.43964717e-01,  1.86519441e-06,\n",
       "       -5.77322078e-06,  4.13007333e-06,  4.86282827e-06,  2.13389014e+00,\n",
       "       -2.35147723e-05, -1.90294239e-05, -1.81412361e-05, -5.39574096e-06,\n",
       "        4.87635936e+00,  8.79802549e+00,  9.38462403e+00,  1.49539355e+01,\n",
       "        1.67531337e+01,  1.70196483e+02,  4.76799534e+01,  4.13393753e+01,\n",
       "        3.77899229e+01,  1.77071622e+01])\n",
       "  message: 'CONVERGENCE: REL_REDUCTION_OF_F_<=_FACTR*EPSMCH'\n",
       "     nfev: 248\n",
       "      nit: 5\n",
       "     njev: 8\n",
       "   status: 0\n",
       "  success: True\n",
       "        x: array([1.00000000e-04, 1.00000000e-04, 1.00000000e-04, 1.00000000e-04,\n",
       "       1.00000000e-04, 1.00000000e-04, 1.00000000e-04, 1.00000000e-04,\n",
       "       1.00000000e-04, 1.00000000e-04, 1.00000036e+03, 1.34000000e+03,\n",
       "       1.37000012e+03, 1.56000000e+03, 1.60000000e+03, 2.49999981e+03,\n",
       "       2.69000000e+03, 2.72000000e+03, 2.74000000e+03, 2.95000000e+03,\n",
       "       3.15265304e-04, 1.00000000e-04, 1.00000000e-04, 1.00000000e-04,\n",
       "       1.00000000e-04, 1.00000000e-04, 1.00000000e-04, 1.00000000e-04,\n",
       "       1.00000000e-04, 1.00000000e-04])"
      ]
     },
     "execution_count": 94,
     "metadata": {},
     "output_type": "execute_result"
    },
    {
     "data": {
      "image/png": "[encoded data removed]",
      "text/plain": [
       "<Figure size 720x504 with 1 Axes>"
      ]
     },
     "metadata": {
      "needs_background": "light"
     },
     "output_type": "display_data"
    }
   ],
   "source": [
    "fit_spectrum(sample_spectrum, 10, 1, 0.01, \"lorentz\", \"MAPE\", 0.0001, 100, 15, 2)"
   ]
  },
  {
   "cell_type": "code",
   "execution_count": 95,
   "id": "998fb046",
   "metadata": {},
   "outputs": [
    {
     "data": {
      "text/plain": [
       "[<matplotlib.lines.Line2D at 0x7fc3c32b43a0>]"
      ]
     },
     "execution_count": 95,
     "metadata": {},
     "output_type": "execute_result"
    },
    {
     "data": {
      "image/png": "[encoded data removed]",
      "text/plain": [
       "<Figure size 720x504 with 1 Axes>"
      ]
     },
     "metadata": {
      "needs_background": "light"
     },
     "output_type": "display_data"
    }
   ],
   "source": [
    "num_peaks = 10\n",
    "amp = INITIAL_GUESS[0:num_peaks]\n",
    "cen = INITIAL_GUESS[num_peaks:2*num_peaks]\n",
    "wid = INITIAL_GUESS[2*num_peaks:3*num_peaks]\n",
    "parameter_matrix = pd.DataFrame({\"amp\": amp, \"cen\": cen, \"wid\": wid})\n",
    "reconstructed_y = reconstruct_spectrum(sample_spectrum[\"x\"], parameter_matrix)\n",
    "plots.plot(sample_spectrum[\"x\"], reconstructed_y)"
   ]
  },
  {
   "cell_type": "code",
   "execution_count": 78,
   "id": "4e668847",
   "metadata": {},
   "outputs": [
    {
     "data": {
      "text/plain": [
       "7.37908"
      ]
     },
     "execution_count": 78,
     "metadata": {},
     "output_type": "execute_result"
    }
   ],
   "source": [
    "parameter_matrix.iloc[0]["
   ]
  },
  {
   "cell_type": "markdown",
   "id": "f5caabbc",
   "metadata": {},
   "source": [
    "# Testing - Pandas"
   ]
  },
  {
   "cell_type": "code",
   "execution_count": 82,
   "id": "a9a3e2c9",
   "metadata": {},
   "outputs": [
    {
     "data": {
      "text/html": [
       "<div>\n",
       "<style scoped>\n",
       "    .dataframe tbody tr th:only-of-type {\n",
       "        vertical-align: middle;\n",
       "    }\n",
       "\n",
       "    .dataframe tbody tr th {\n",
       "        vertical-align: top;\n",
       "    }\n",
       "\n",
       "    .dataframe thead th {\n",
       "        text-align: right;\n",
       "    }\n",
       "</style>\n",
       "<table border=\"1\" class=\"dataframe\">\n",
       "  <thead>\n",
       "    <tr style=\"text-align: right;\">\n",
       "      <th></th>\n",
       "      <th>A</th>\n",
       "      <th>B</th>\n",
       "      <th>C</th>\n",
       "    </tr>\n",
       "  </thead>\n",
       "  <tbody>\n",
       "    <tr>\n",
       "      <th>0</th>\n",
       "      <td>1</td>\n",
       "      <td>9</td>\n",
       "      <td>0</td>\n",
       "    </tr>\n",
       "    <tr>\n",
       "      <th>1</th>\n",
       "      <td>4</td>\n",
       "      <td>2</td>\n",
       "      <td>0</td>\n",
       "    </tr>\n",
       "    <tr>\n",
       "      <th>2</th>\n",
       "      <td>1</td>\n",
       "      <td>5</td>\n",
       "      <td>5</td>\n",
       "    </tr>\n",
       "    <tr>\n",
       "      <th>3</th>\n",
       "      <td>4</td>\n",
       "      <td>3</td>\n",
       "      <td>3</td>\n",
       "    </tr>\n",
       "  </tbody>\n",
       "</table>\n",
       "</div>"
      ],
      "text/plain": [
       "   A  B  C\n",
       "0  1  9  0\n",
       "1  4  2  0\n",
       "2  1  5  5\n",
       "3  4  3  3"
      ]
     },
     "execution_count": 82,
     "metadata": {},
     "output_type": "execute_result"
    }
   ],
   "source": [
    "dic = {'A': [1, 4, 1, 4], 'B': [9, 2, 5, 3], 'C': [0, 0, 5, 3]}\n",
    "df = pd.DataFrame(dic)\n",
    "df"
   ]
  },
  {
   "cell_type": "code",
   "execution_count": 84,
   "id": "09fe49bd",
   "metadata": {},
   "outputs": [
    {
     "data": {
      "text/plain": [
       "0    9\n",
       "1    4\n",
       "2    5\n",
       "3    4\n",
       "dtype: int64"
      ]
     },
     "execution_count": 84,
     "metadata": {},
     "output_type": "execute_result"
    }
   ],
   "source": [
    "df.apply(lambda x: max(x), axis=1)"
   ]
  },
  {
   "cell_type": "markdown",
   "id": "0de0e0b3",
   "metadata": {},
   "source": [
    "## Up Next:\n",
    "Baseline (try fitting algorithm in reading list) <br>  \n",
    "Add different errors <br>  \n",
    "Output error from driver <br>  \n",
    "Add the option to fit with less peaks (with/without 1&3) Do this automatically. Let user choose if this happens. <br>  \n"
   ]
  },
  {
   "cell_type": "markdown",
   "id": "f0254cef",
   "metadata": {},
   "source": [
    "Future optimization: do operations in place\n",
    "Check peak interval against spectrum range to see if we need to\n",
    "    fit with a different number of peaks\n",
    "Initial guess: try using generalized results of completed optimization? Or try finding prominent peaks and using those as a starting point"
   ]
  },
  {
   "cell_type": "markdown",
   "id": "e5997ceb",
   "metadata": {},
   "source": [
    "Have to figure out what the type of guess will be - series or ndarray.\n",
    "Maybe try to use multithreading in spectrum reconstruction.\n",
    "Used in optimization."
   ]
  },
  {
   "cell_type": "code",
   "execution_count": null,
   "id": "c9f3b88a",
   "metadata": {},
   "outputs": [],
   "source": []
  }
 ],
 "metadata": {
  "kernelspec": {
   "display_name": "Python 3 (ipykernel)",
   "language": "python",
   "name": "python3"
  },
  "language_info": {
   "codemirror_mode": {
    "name": "ipython",
    "version": 3
   },
   "file_extension": ".py",
   "mimetype": "text/x-python",
   "name": "python",
   "nbconvert_exporter": "python",
   "pygments_lexer": "ipython3",
   "version": "3.9.6"
  }
 },
 "nbformat": 4,
 "nbformat_minor": 5
}
